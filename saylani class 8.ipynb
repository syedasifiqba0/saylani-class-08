{
 "cells": [
  {
   "cell_type": "markdown",
   "id": "d83788be",
   "metadata": {},
   "source": [
    "# STRUCTURAL PROGRAMING"
   ]
  },
  {
   "cell_type": "markdown",
   "id": "2165f522",
   "metadata": {},
   "source": [
    "# *if\n",
    "  *else\n",
    "   *elif\n",
    "*for/while\n",
    "    *break\n",
    "    *continue\n",
    "    *pass\n",
    "     *else\n",
    "     \n",
    "    \n",
    "       "
   ]
  },
  {
   "cell_type": "markdown",
   "id": "a9806853",
   "metadata": {},
   "source": [
    "# if \n",
    " *else\n",
    " *elif\n",
    "\n",
    "     if logic:\n",
    "    True_black_body\n",
    "    else logic:\n",
    "    False_black_body"
   ]
  },
  {
   "cell_type": "code",
   "execution_count": 2,
   "id": "b88c7671",
   "metadata": {},
   "outputs": [
    {
     "name": "stdout",
     "output_type": "stream",
     "text": [
      "pakistan\n",
      "america\n"
     ]
    }
   ],
   "source": [
    "print(\"pakistan\")\n",
    "print(\"america\")"
   ]
  },
  {
   "cell_type": "code",
   "execution_count": 3,
   "id": "88feca40",
   "metadata": {},
   "outputs": [
    {
     "name": "stdout",
     "output_type": "stream",
     "text": [
      "pakistan\n"
     ]
    }
   ],
   "source": [
    "if True:\n",
    "    print(\"pakistan\")\n",
    "else:\n",
    "    print(\"america\")"
   ]
  },
  {
   "cell_type": "code",
   "execution_count": 4,
   "id": "3f43812a",
   "metadata": {},
   "outputs": [
    {
     "name": "stdout",
     "output_type": "stream",
     "text": [
      "america\n"
     ]
    }
   ],
   "source": [
    "if False:\n",
    "    print(\"pakistan\")\n",
    "else:\n",
    "    print(\"america\")"
   ]
  },
  {
   "cell_type": "code",
   "execution_count": 1,
   "id": "818ec40d",
   "metadata": {},
   "outputs": [
    {
     "name": "stdout",
     "output_type": "stream",
     "text": [
      "Enter any Number  55\n",
      "55 <class 'int'>\n",
      "he {num} is odd\n"
     ]
    }
   ],
   "source": [
    "num = int(input(\"Enter any Number  \"))\n",
    "print(num,type(num))\n",
    "            \n",
    "if num % 2 == 0:\n",
    "    print(\"the {num} is even\")\n",
    "else:\n",
    "    print(\"he {num} is odd\")\n"
   ]
  },
  {
   "cell_type": "code",
   "execution_count": 18,
   "id": "007d5b2c",
   "metadata": {},
   "outputs": [
    {
     "name": "stdout",
     "output_type": "stream",
     "text": [
      "enter number45\n",
      "the {num} is odd\n"
     ]
    }
   ],
   "source": [
    "num =int(input(\"enter number\"))\n",
    "if num % 2 == 0:\n",
    "    print(\"the {num} is even\")\n",
    "else:\n",
    "    print(\"the {num} is odd\")"
   ]
  },
  {
   "cell_type": "code",
   "execution_count": 3,
   "id": "3d7a3f81",
   "metadata": {},
   "outputs": [
    {
     "name": "stdout",
     "output_type": "stream",
     "text": [
      "Enter your per: 100\n",
      "A+\n"
     ]
    }
   ],
   "source": [
    "per = int(input(\"Enter your per: \"))\n",
    "if per >= 100:\n",
    "    print (\"Enter Valid Percentage :\")\n",
    "elif per>=80:\n",
    "    print(\"A+\")\n",
    "elif per >=70:\n",
    "    print(\"A\")\n",
    "elif per>=60:\n",
    "    print(\"B\")\n",
    "elif per>=50:\n",
    "    print(\"C\")\n",
    "elif per>=40:\n",
    "    print(\"D\")\n",
    "elif per>=33:\n",
    "    print(\"dahkka pass\")\n",
    "else:\n",
    "    print(\"Failed\")"
   ]
  },
  {
   "cell_type": "code",
   "execution_count": 4,
   "id": "7b58a90b",
   "metadata": {},
   "outputs": [
    {
     "name": "stdout",
     "output_type": "stream",
     "text": [
      "Enter your per: 56\n",
      "C\n"
     ]
    }
   ],
   "source": [
    "per = int(input(\"Enter your per: \"))\n",
    "if per >= 100:\n",
    "    print (\"Enter Valid Percentage :\")\n",
    "elif per>=80:\n",
    "    print(\"A+\")\n",
    "elif per >=70 and per<=80:\n",
    "    print(\"A\")\n",
    "elif per>=60 and per<=70:\n",
    "    print(\"B\")\n",
    "elif per>=50 and per<=60:\n",
    "    print(\"C\")\n",
    "elif per>=40 and per<=50:\n",
    "    print(\"D\")\n",
    "elif per>=33:\n",
    "    print(\"dahkka pass\")\n",
    "else:\n",
    "    print(\"Failed\")"
   ]
  },
  {
   "cell_type": "code",
   "execution_count": 14,
   "id": "f61fc2be",
   "metadata": {},
   "outputs": [
    {
     "name": "stdout",
     "output_type": "stream",
     "text": [
      "Input User Name: Admin\n",
      "Input User Password: Admin\n",
      "valid user\n"
     ]
    }
   ],
   "source": [
    "user_name = input(\"Input User Name: \")\n",
    "password = input(\"Input User Password: \")\n",
    "if user_name == \"Admin\" and  password == \"Admin\" :\n",
    "    print(\"valid user\")\n",
    "else:\n",
    "    print(\"invalid user\")"
   ]
  },
  {
   "cell_type": "code",
   "execution_count": 15,
   "id": "63ecb850",
   "metadata": {},
   "outputs": [
    {
     "name": "stdout",
     "output_type": "stream",
     "text": [
      "Input User Name :asad\n",
      "Input User Password :asad\n",
      "User_name is same as Password\n"
     ]
    }
   ],
   "source": [
    "user_name = input(\"Input User Name :\")\n",
    "password = input(\"Input User Password :\")\n",
    "if user_name == password:\n",
    "    print(\"User_name is same as Password\")\n",
    "else:\n",
    "    print(\"you write different user_name and password\")\n"
   ]
  },
  {
   "cell_type": "code",
   "execution_count": null,
   "id": "a4ae7863",
   "metadata": {},
   "outputs": [],
   "source": [
    "User_name = input(\"enter user name :\")\n",
    "Password = input(\"\")"
   ]
  },
  {
   "cell_type": "markdown",
   "id": "f857f9ed",
   "metadata": {},
   "source": [
    "# Loop"
   ]
  },
  {
   "cell_type": "code",
   "execution_count": 19,
   "id": "deeeecf9",
   "metadata": {},
   "outputs": [
    {
     "data": {
      "text/plain": [
       "['p', 'a', 'k', 'i', 's', 't', 'a', 'n']"
      ]
     },
     "execution_count": 19,
     "metadata": {},
     "output_type": "execute_result"
    }
   ],
   "source": [
    "list (\"pakistan\")"
   ]
  },
  {
   "cell_type": "code",
   "execution_count": 21,
   "id": "742e8a98",
   "metadata": {},
   "outputs": [
    {
     "name": "stdout",
     "output_type": "stream",
     "text": [
      "P\n",
      "k\n",
      "i\n",
      "s\n",
      "t\n",
      "a\n",
      "n\n"
     ]
    }
   ],
   "source": [
    "for i in list (\"Pkistan\"):\n",
    "    print(i)"
   ]
  },
  {
   "cell_type": "code",
   "execution_count": 22,
   "id": "48d7e141",
   "metadata": {},
   "outputs": [
    {
     "name": "stdout",
     "output_type": "stream",
     "text": [
      "65\n"
     ]
    }
   ],
   "source": [
    "print(ord(\"A\"))"
   ]
  },
  {
   "cell_type": "code",
   "execution_count": 24,
   "id": "12c78a68",
   "metadata": {},
   "outputs": [
    {
     "name": "stdout",
     "output_type": "stream",
     "text": [
      "A\n"
     ]
    }
   ],
   "source": [
    "print(chr(65))"
   ]
  },
  {
   "cell_type": "code",
   "execution_count": 34,
   "id": "f059ea0e",
   "metadata": {},
   "outputs": [
    {
     "data": {
      "text/plain": [
       "['A',\n",
       " 'B',\n",
       " 'C',\n",
       " 'D',\n",
       " 'E',\n",
       " 'F',\n",
       " 'G',\n",
       " 'H',\n",
       " 'I',\n",
       " 'J',\n",
       " 'K',\n",
       " 'L',\n",
       " 'M',\n",
       " 'N',\n",
       " 'O',\n",
       " 'P',\n",
       " 'Q',\n",
       " 'R',\n",
       " 'S',\n",
       " 'T',\n",
       " 'U',\n",
       " 'V',\n",
       " 'W',\n",
       " 'X',\n",
       " 'Y',\n",
       " 'Z',\n",
       " 'a',\n",
       " 'b',\n",
       " 'c',\n",
       " 'd',\n",
       " 'e',\n",
       " 'f',\n",
       " 'g',\n",
       " 'h',\n",
       " 'i',\n",
       " 'j',\n",
       " 'k',\n",
       " 'l',\n",
       " 'm',\n",
       " 'n',\n",
       " 'o',\n",
       " 'p',\n",
       " 'q',\n",
       " 'r',\n",
       " 's',\n",
       " 't',\n",
       " 'u',\n",
       " 'v',\n",
       " 'w',\n",
       " 'x',\n",
       " 'y',\n",
       " 'z',\n",
       " '0',\n",
       " '1',\n",
       " '2',\n",
       " '3',\n",
       " '4',\n",
       " '5',\n",
       " '6',\n",
       " '7',\n",
       " '8',\n",
       " '9']"
      ]
     },
     "execution_count": 34,
     "metadata": {},
     "output_type": "execute_result"
    }
   ],
   "source": [
    "[chr(i) for i in range(65,91)]+\\\n",
    "[chr(i) for i in range(97,123)]+\\\n",
    "[chr(i) for i in range(48,58)]"
   ]
  },
  {
   "cell_type": "markdown",
   "id": "1b9b9ab4",
   "metadata": {},
   "source": [
    "# loop control"
   ]
  },
  {
   "cell_type": "code",
   "execution_count": 48,
   "id": "b087a45b",
   "metadata": {},
   "outputs": [
    {
     "name": "stdout",
     "output_type": "stream",
     "text": [
      "1\n",
      "2\n",
      "3\n",
      "4\n",
      "5\n",
      "6\n",
      "7\n",
      "8\n",
      "9\n"
     ]
    }
   ],
   "source": [
    "for i in range(1,10):\n",
    "    print(i)"
   ]
  },
  {
   "cell_type": "code",
   "execution_count": 53,
   "id": "b3fa3924",
   "metadata": {},
   "outputs": [
    {
     "name": "stdout",
     "output_type": "stream",
     "text": [
      "1\n",
      "2\n",
      "3\n",
      "4\n"
     ]
    }
   ],
   "source": [
    "for i in  range(1,11):\n",
    "    print(i)\n",
    "    if i == 4:\n",
    "        break\n",
    "    if i == 6 :\n",
    "        continue\n",
    "        "
   ]
  },
  {
   "cell_type": "code",
   "execution_count": 67,
   "id": "7e48c355",
   "metadata": {},
   "outputs": [
    {
     "name": "stdout",
     "output_type": "stream",
     "text": [
      "Enter user name :Asif\n",
      "password123\n",
      "{'id': 1, 'name': 'Asif', 'u': 'Asif', 'pas': '123', 'p': '123'}\n"
     ]
    }
   ],
   "source": [
    "data = [{\"id\": 1 , \"name\":\"Asif\" , \"u\":  \"Asif\",  \"pas\":\"123\" , \"p\": \"123\"},\n",
    "        {\"id\": 2 , \"name\":\"Arif\" , \"u\":  \"Arif\",  \"pas\":\"213\" , \"p\": \"213\" },\n",
    "        {\"id\": 3 , \"name\":\"Atiq\" , \"u\":  \"Atiq\" , \"pas\":\"567\" , \"p\": \"567\"}]\n",
    "\n",
    "user_name = input(\"Enter user name :\")\n",
    "pas = input(\"password\")\n",
    "                  \n",
    "for d in data:\n",
    "    if d['u'] == user_name and d['p'] == pas:\n",
    "        print(d)\n",
    "    break\n",
    "else:    \n",
    "        print(\"Invalid User or Password\")"
   ]
  },
  {
   "cell_type": "code",
   "execution_count": null,
   "id": "d1beef9b",
   "metadata": {},
   "outputs": [],
   "source": []
  },
  {
   "cell_type": "code",
   "execution_count": null,
   "id": "d7783355",
   "metadata": {},
   "outputs": [],
   "source": []
  }
 ],
 "metadata": {
  "kernelspec": {
   "display_name": "Python 3 (ipykernel)",
   "language": "python",
   "name": "python3"
  },
  "language_info": {
   "codemirror_mode": {
    "name": "ipython",
    "version": 3
   },
   "file_extension": ".py",
   "mimetype": "text/x-python",
   "name": "python",
   "nbconvert_exporter": "python",
   "pygments_lexer": "ipython3",
   "version": "3.9.12"
  }
 },
 "nbformat": 4,
 "nbformat_minor": 5
}
